{
 "cells": [
  {
   "cell_type": "markdown",
   "metadata": {},
   "source": [
    "<center>\n",
    "    <img src=\"data:image/png;base64,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\" width=\"500\" />\n",
    "</center>\n",
    "\n",
    "\n",
    "\n",
    "<!-- ![MITClassiq](data:image/png;base64,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) -->"
   ]
  },
  {
   "cell_type": "markdown",
   "metadata": {},
   "source": [
    "# State Preparation Workshop: Classiq Challenge"
   ]
  },
  {
   "cell_type": "markdown",
   "metadata": {},
   "source": [
    "**We now have a new Web-SDK with a Python environment set up for you and a personal workspace where all your work will be saved!**  \n",
    "Please upload this notebook to the Web-SDK on our [platform](https://platform.classiq.io/) in your persistent user workspace and try solving it there."
   ]
  },
  {
   "cell_type": "markdown",
   "metadata": {},
   "source": [
    "## Welcome to the Classiq Prepration Workshop of the MIT iQuHack Hackathon 2025!"
   ]
  },
  {
   "cell_type": "markdown",
   "metadata": {
    "jp-MarkdownHeadingCollapsed": true
   },
   "source": [
    "### Motivation"
   ]
  },
  {
   "cell_type": "markdown",
   "metadata": {},
   "source": [
    "**State Preparation** is a fundamental step in quantum algorithms, enabling quantum systems to start from well-defined initial states. Efficient state preparation is crucial as it directly impacts the accuracy and scalability of quantum computations.\n",
    "\n",
    "**With the scaling of quantum hardware, achieving efficient and precise state preparation will directly improve the costs of quantum algorithms and enhance impactful applications!**"
   ]
  },
  {
   "cell_type": "markdown",
   "metadata": {},
   "source": [
    "**Your resources:**\n",
    "- The Classiq IDE at [platform.classiq.io](https://platform.classiq.io/).\n",
    "- The [Classiq Library](https://github.com/Classiq/classiq-library) – the largest collection of quantum functions, algorithms, and tutorials.\n",
    "- [Classiq's documentation](https://docs.classiq.io/latest/), and the [Classiq101](https://docs.classiq.io/latest/classiq_101/) for quick onboarding to high-level quantum modelling concepts.\n",
    "- The [Classiq Community Slack](https://short.classiq.io/join-slack) – where the Classiq team will address any questions, including implementation-related queries."
   ]
  },
  {
   "cell_type": "markdown",
   "metadata": {
    "jp-MarkdownHeadingCollapsed": true
   },
   "source": [
    "### If you are not using the Web-SDK:"
   ]
  },
  {
   "cell_type": "markdown",
   "metadata": {},
   "source": [
    "1. Firstly, if you haven't already, install the Classiq SDK package. If it's already installed, make sure to update it to the latest version."
   ]
  },
  {
   "cell_type": "code",
   "execution_count": 2,
   "metadata": {
    "ExecuteTime": {
     "end_time": "2024-08-20T09:02:51.727666Z",
     "start_time": "2024-08-20T09:02:51.725583Z"
    }
   },
   "outputs": [
    {
     "name": "stdout",
     "output_type": "stream",
     "text": [
      "Requirement already satisfied: classiq in c:\\users\\asus\\appdata\\local\\programs\\python\\python312\\lib\\site-packages (0.66.1)\n",
      "Requirement already satisfied: ConfigArgParse<2.0.0,>=1.5.3 in c:\\users\\asus\\appdata\\local\\programs\\python\\python312\\lib\\site-packages (from classiq) (1.7)\n",
      "Requirement already satisfied: Pyomo<6.6,>=6.5 in c:\\users\\asus\\appdata\\local\\programs\\python\\python312\\lib\\site-packages (from classiq) (6.5.0)\n",
      "Requirement already satisfied: black<25.0,>=24.0 in c:\\users\\asus\\appdata\\local\\programs\\python\\python312\\lib\\site-packages (from classiq) (24.10.0)\n",
      "Requirement already satisfied: httpx<1,>=0.23.0 in c:\\users\\asus\\appdata\\local\\programs\\python\\python312\\lib\\site-packages (from classiq) (0.28.1)\n",
      "Requirement already satisfied: keyring<24.0.0,>=23.5.0 in c:\\users\\asus\\appdata\\local\\programs\\python\\python312\\lib\\site-packages (from classiq) (23.13.1)\n",
      "Requirement already satisfied: matplotlib<4.0.0,>=3.4.3 in c:\\users\\asus\\appdata\\local\\programs\\python\\python312\\lib\\site-packages (from classiq) (3.9.2)\n",
      "Requirement already satisfied: networkx<3.0.0,>=2.5.1 in c:\\users\\asus\\appdata\\local\\programs\\python\\python312\\lib\\site-packages (from classiq) (2.8.8)\n",
      "Requirement already satisfied: numexpr<3.0.0,>=2.7.3 in c:\\users\\asus\\appdata\\local\\programs\\python\\python312\\lib\\site-packages (from classiq) (2.10.2)\n",
      "Requirement already satisfied: numpy<2.0.0,>=1.26.0 in c:\\users\\asus\\appdata\\local\\programs\\python\\python312\\lib\\site-packages (from classiq) (1.26.4)\n",
      "Requirement already satisfied: packaging<24.0,>=23.2 in c:\\users\\asus\\appdata\\local\\programs\\python\\python312\\lib\\site-packages (from classiq) (23.2)\n",
      "Requirement already satisfied: pandas<3.0.0,>=1.4.0 in c:\\users\\asus\\appdata\\local\\programs\\python\\python312\\lib\\site-packages (from classiq) (2.2.3)\n",
      "Requirement already satisfied: plotly<6.0.0,>=5.7.0 in c:\\users\\asus\\appdata\\local\\programs\\python\\python312\\lib\\site-packages (from classiq) (5.24.1)\n",
      "Requirement already satisfied: pydantic<2.10.0,>=2.9.0 in c:\\users\\asus\\appdata\\local\\programs\\python\\python312\\lib\\site-packages (from classiq) (2.9.2)\n",
      "Requirement already satisfied: pydantic-settings<3.0.0,>=2.4.0 in c:\\users\\asus\\appdata\\local\\programs\\python\\python312\\lib\\site-packages (from classiq) (2.7.1)\n",
      "Requirement already satisfied: scipy<2.0.0,>=1.11.0 in c:\\users\\asus\\appdata\\local\\programs\\python\\python312\\lib\\site-packages (from classiq) (1.14.1)\n",
      "Requirement already satisfied: sympy<2.0.0,>=1.13.0 in c:\\users\\asus\\appdata\\local\\programs\\python\\python312\\lib\\site-packages (from classiq) (1.13.3)\n",
      "Requirement already satisfied: tabulate<1,>=0.8.9 in c:\\users\\asus\\appdata\\local\\programs\\python\\python312\\lib\\site-packages (from classiq) (0.9.0)\n",
      "Requirement already satisfied: tqdm<5.0.0,>=4.67.1 in c:\\users\\asus\\appdata\\local\\programs\\python\\python312\\lib\\site-packages (from classiq) (4.67.1)\n",
      "Requirement already satisfied: click>=8.0.0 in c:\\users\\asus\\appdata\\local\\programs\\python\\python312\\lib\\site-packages (from black<25.0,>=24.0->classiq) (8.1.8)\n",
      "Requirement already satisfied: mypy-extensions>=0.4.3 in c:\\users\\asus\\appdata\\local\\programs\\python\\python312\\lib\\site-packages (from black<25.0,>=24.0->classiq) (1.0.0)\n",
      "Requirement already satisfied: pathspec>=0.9.0 in c:\\users\\asus\\appdata\\local\\programs\\python\\python312\\lib\\site-packages (from black<25.0,>=24.0->classiq) (0.12.1)\n",
      "Requirement already satisfied: platformdirs>=2 in c:\\users\\asus\\appdata\\roaming\\python\\python312\\site-packages (from black<25.0,>=24.0->classiq) (4.3.2)\n",
      "Requirement already satisfied: anyio in c:\\users\\asus\\appdata\\local\\programs\\python\\python312\\lib\\site-packages (from httpx<1,>=0.23.0->classiq) (4.8.0)\n",
      "Requirement already satisfied: certifi in c:\\users\\asus\\appdata\\local\\programs\\python\\python312\\lib\\site-packages (from httpx<1,>=0.23.0->classiq) (2024.12.14)\n",
      "Requirement already satisfied: httpcore==1.* in c:\\users\\asus\\appdata\\local\\programs\\python\\python312\\lib\\site-packages (from httpx<1,>=0.23.0->classiq) (1.0.7)\n",
      "Requirement already satisfied: idna in c:\\users\\asus\\appdata\\local\\programs\\python\\python312\\lib\\site-packages (from httpx<1,>=0.23.0->classiq) (3.10)\n",
      "Requirement already satisfied: h11<0.15,>=0.13 in c:\\users\\asus\\appdata\\local\\programs\\python\\python312\\lib\\site-packages (from httpcore==1.*->httpx<1,>=0.23.0->classiq) (0.14.0)\n",
      "Requirement already satisfied: jaraco.classes in c:\\users\\asus\\appdata\\local\\programs\\python\\python312\\lib\\site-packages (from keyring<24.0.0,>=23.5.0->classiq) (3.4.0)\n",
      "Requirement already satisfied: pywin32-ctypes>=0.2.0 in c:\\users\\asus\\appdata\\local\\programs\\python\\python312\\lib\\site-packages (from keyring<24.0.0,>=23.5.0->classiq) (0.2.3)\n",
      "Requirement already satisfied: contourpy>=1.0.1 in c:\\users\\asus\\appdata\\local\\programs\\python\\python312\\lib\\site-packages (from matplotlib<4.0.0,>=3.4.3->classiq) (1.3.0)\n",
      "Requirement already satisfied: cycler>=0.10 in c:\\users\\asus\\appdata\\local\\programs\\python\\python312\\lib\\site-packages (from matplotlib<4.0.0,>=3.4.3->classiq) (0.12.1)\n",
      "Requirement already satisfied: fonttools>=4.22.0 in c:\\users\\asus\\appdata\\local\\programs\\python\\python312\\lib\\site-packages (from matplotlib<4.0.0,>=3.4.3->classiq) (4.53.1)\n",
      "Requirement already satisfied: kiwisolver>=1.3.1 in c:\\users\\asus\\appdata\\local\\programs\\python\\python312\\lib\\site-packages (from matplotlib<4.0.0,>=3.4.3->classiq) (1.4.7)\n",
      "Requirement already satisfied: pillow>=8 in c:\\users\\asus\\appdata\\local\\programs\\python\\python312\\lib\\site-packages (from matplotlib<4.0.0,>=3.4.3->classiq) (10.4.0)\n",
      "Requirement already satisfied: pyparsing>=2.3.1 in c:\\users\\asus\\appdata\\local\\programs\\python\\python312\\lib\\site-packages (from matplotlib<4.0.0,>=3.4.3->classiq) (3.1.4)\n",
      "Requirement already satisfied: python-dateutil>=2.7 in c:\\users\\asus\\appdata\\roaming\\python\\python312\\site-packages (from matplotlib<4.0.0,>=3.4.3->classiq) (2.9.0.post0)\n",
      "Requirement already satisfied: pytz>=2020.1 in c:\\users\\asus\\appdata\\local\\programs\\python\\python312\\lib\\site-packages (from pandas<3.0.0,>=1.4.0->classiq) (2024.2)\n",
      "Requirement already satisfied: tzdata>=2022.7 in c:\\users\\asus\\appdata\\local\\programs\\python\\python312\\lib\\site-packages (from pandas<3.0.0,>=1.4.0->classiq) (2024.2)\n",
      "Requirement already satisfied: tenacity>=6.2.0 in c:\\users\\asus\\appdata\\local\\programs\\python\\python312\\lib\\site-packages (from plotly<6.0.0,>=5.7.0->classiq) (9.0.0)\n",
      "Requirement already satisfied: annotated-types>=0.6.0 in c:\\users\\asus\\appdata\\local\\programs\\python\\python312\\lib\\site-packages (from pydantic<2.10.0,>=2.9.0->classiq) (0.7.0)\n",
      "Requirement already satisfied: pydantic-core==2.23.4 in c:\\users\\asus\\appdata\\local\\programs\\python\\python312\\lib\\site-packages (from pydantic<2.10.0,>=2.9.0->classiq) (2.23.4)\n",
      "Requirement already satisfied: typing-extensions>=4.6.1 in c:\\users\\asus\\appdata\\local\\programs\\python\\python312\\lib\\site-packages (from pydantic<2.10.0,>=2.9.0->classiq) (4.12.2)\n",
      "Requirement already satisfied: python-dotenv>=0.21.0 in c:\\users\\asus\\appdata\\local\\programs\\python\\python312\\lib\\site-packages (from pydantic-settings<3.0.0,>=2.4.0->classiq) (1.0.1)\n",
      "Requirement already satisfied: ply in c:\\users\\asus\\appdata\\local\\programs\\python\\python312\\lib\\site-packages (from Pyomo<6.6,>=6.5->classiq) (3.11)\n",
      "Requirement already satisfied: mpmath<1.4,>=1.1.0 in c:\\users\\asus\\appdata\\local\\programs\\python\\python312\\lib\\site-packages (from sympy<2.0.0,>=1.13.0->classiq) (1.3.0)\n",
      "Requirement already satisfied: colorama in c:\\users\\asus\\appdata\\roaming\\python\\python312\\site-packages (from tqdm<5.0.0,>=4.67.1->classiq) (0.4.6)\n",
      "Requirement already satisfied: six>=1.5 in c:\\users\\asus\\appdata\\roaming\\python\\python312\\site-packages (from python-dateutil>=2.7->matplotlib<4.0.0,>=3.4.3->classiq) (1.16.0)\n",
      "Requirement already satisfied: sniffio>=1.1 in c:\\users\\asus\\appdata\\local\\programs\\python\\python312\\lib\\site-packages (from anyio->httpx<1,>=0.23.0->classiq) (1.3.1)\n",
      "Requirement already satisfied: more-itertools in c:\\users\\asus\\appdata\\local\\programs\\python\\python312\\lib\\site-packages (from jaraco.classes->keyring<24.0.0,>=23.5.0->classiq) (10.6.0)\n"
     ]
    },
    {
     "name": "stderr",
     "output_type": "stream",
     "text": [
      "\n",
      "[notice] A new release of pip is available: 24.2 -> 25.0\n",
      "[notice] To update, run: python.exe -m pip install --upgrade pip\n"
     ]
    }
   ],
   "source": [
    "!pip install -U classiq"
   ]
  },
  {
   "cell_type": "markdown",
   "metadata": {},
   "source": [
    "2. Authenticate your device against the Classiq backend:"
   ]
  },
  {
   "cell_type": "code",
   "execution_count": 3,
   "metadata": {
    "ExecuteTime": {
     "end_time": "2024-08-20T09:02:54.079140Z",
     "start_time": "2024-08-20T09:02:52.607680Z"
    }
   },
   "outputs": [
    {
     "name": "stdout",
     "output_type": "stream",
     "text": [
      "Your user code: DRWQ-VPJL\n",
      "If a browser doesn't automatically open, please visit this URL from any trusted device: https://auth.classiq.io/activate?user_code=DRWQ-VPJL\n"
     ]
    }
   ],
   "source": [
    "import classiq\n",
    "classiq.authenticate() # Uncoment to authenticate. For the first (local) run only"
   ]
  },
  {
   "cell_type": "markdown",
   "metadata": {
    "jp-MarkdownHeadingCollapsed": true
   },
   "source": [
    "### Classiq 101"
   ]
  },
  {
   "cell_type": "markdown",
   "metadata": {},
   "source": [
    "The [Classiq101](https://docs.classiq.io/latest/classiq_101/) is a great resource for getting the basics of the concept of high-level modeling quickly.\\\n",
    "As a first step, take a couple of minutes to go through the first page of the design section from the Classiq101 [here](https://docs.classiq.io/latest/classiq_101/classiq_concepts/design/)"
   ]
  },
  {
   "cell_type": "code",
   "execution_count": 10,
   "metadata": {},
   "outputs": [],
   "source": [
    "from classiq import *\n",
    "\n",
    "\n",
    "@qfunc\n",
    "def main(x: Output[QNum], y: Output[QNum]):\n",
    "\n",
    "    allocate(3, x)\n",
    "    hadamard_transform(x)  # creates a uniform superposition\n",
    "    y |= x**2 + 1"
   ]
  },
  {
   "cell_type": "code",
   "execution_count": 11,
   "metadata": {},
   "outputs": [
    {
     "name": "stdout",
     "output_type": "stream",
     "text": [
      "Opening: https://platform.classiq.io/circuit/2sTmlvTnCZAjZZaXqLq7JAEqVlo?version=0.66.1\n"
     ]
    }
   ],
   "source": [
    "quantum_program = synthesize(create_model(main))\n",
    "show(quantum_program)"
   ]
  },
  {
   "cell_type": "code",
   "execution_count": 12,
   "metadata": {},
   "outputs": [
    {
     "name": "stdout",
     "output_type": "stream",
     "text": [
      "Opening: https://platform.classiq.io/circuit/2sTn2LVZR9wkkxFU0H0KrxpbKNk?version=0.66.1\n"
     ]
    }
   ],
   "source": [
    "qmod = create_model(main)\n",
    "qprog = synthesize(qmod)\n",
    "show(qprog)"
   ]
  },
  {
   "cell_type": "markdown",
   "metadata": {},
   "source": [
    "<details markdown>\n",
    "<summary>Check Yourself Here!</summary>\n",
    "\n",
    "The solution:\n",
    "\n",
    "```python\n",
    "@qfunc\n",
    "def main(x: Output[QNum], y: Output[QNum], z: Output[QNum]):\n",
    "    allocate(3, x)\n",
    "    allocate(3, z)\n",
    "    hadamard_transform(x)\n",
    "    hadamard_transform(z)\n",
    "    \n",
    "    y |= 2*x + 4*z + 2\n",
    "```\n",
    "\\\n",
    "If you didn't get a similar solution, copy-paste and run this one!"
   ]
  },
  {
   "cell_type": "markdown",
   "metadata": {},
   "source": [
    "### State Prepration"
   ]
  },
  {
   "cell_type": "markdown",
   "metadata": {},
   "source": [
    "Classiq provides many different high-level functions, allowing quick state preparation. We will review few particularly useful ones."
   ]
  },
  {
   "cell_type": "markdown",
   "metadata": {
    "jp-MarkdownHeadingCollapsed": true
   },
   "source": [
    "#### The `prepare_state()` function:"
   ]
  },
  {
   "cell_type": "markdown",
   "metadata": {},
   "source": [
    "Let's say you have a list of probabilities and wish to prepare a quantum state corresponding to this probability distribution.  \n",
    "The `prepare_state()` function takes a normalized probabilities list, an accuracy bound (L2 metric), and a variable of type `QArray`."
   ]
  },
  {
   "cell_type": "code",
   "execution_count": 15,
   "metadata": {},
   "outputs": [
    {
     "name": "stdout",
     "output_type": "stream",
     "text": [
      "The list: \n",
      "[0.025715502005345607, 0.03402088722884128, 0.041964891113244786, 0.053064973535077636, 0.052922850786495036, 0.045295261319931675, 0.02932617496293825, 0.020911176489123457, 0.05522272006558243, 0.05374113952905356, 0.011542254202612304, 0.03333546386731233, 0.04146188495369937, 0.009356261075947793, 0.04412439576046361, 0.02224434633636964, 0.04007988041384711, 0.001999139685378947, 0.012148435145678862, 0.04565978472439212, 0.00139048902537396, 0.030107241001870205, 0.012087044100588754, 0.040527038013275674, 0.04245012906560787, 0.03920340846504645, 0.03447085975956273, 0.04381658154405644, 0.008262641481629786, 0.036039813791200415, 0.002592075428683874, 0.03491525512176803]\n"
     ]
    }
   ],
   "source": [
    "from classiq import *\n",
    "import numpy as np\n",
    "\n",
    "rand_array = np.random.rand(32)\n",
    "normalized_random_list = (rand_array / np.sum(rand_array)).tolist()\n",
    "\n",
    "print(f\"The list: \\n{normalized_random_list}\")\n",
    "\n",
    "@qfunc\n",
    "def main(x: Output[QArray[QBit]]):\n",
    "    prepare_state(probabilities=normalized_random_list, bound=0.01, out=x)\n",
    "\n",
    "\n",
    "qmod = create_model(main) # Creating the quantum model\n",
    "qprog = synthesize(qmod)  # Creating the quantum program"
   ]
  },
  {
   "cell_type": "code",
   "execution_count": 16,
   "metadata": {},
   "outputs": [
    {
     "name": "stdout",
     "output_type": "stream",
     "text": [
      "Opening: https://platform.classiq.io/circuit/2sOsL52oHd5fUDadbAMPNXe4urw?version=0.66.1\n"
     ]
    }
   ],
   "source": [
    "show(qprog)"
   ]
  },
  {
   "cell_type": "markdown",
   "metadata": {
    "jp-MarkdownHeadingCollapsed": true
   },
   "source": [
    "#### Numeric Assignment:"
   ]
  },
  {
   "cell_type": "markdown",
   "metadata": {},
   "source": [
    "Classiq supports various numerical assignment methods.  \n",
    "Let's demonstrate a simple use case of these capabilities. Assume we want to calculate the sum of two quantum variables, `x` and `y`, with some values, in the $\\mathbb{R}$ domain, and output the result in another variable, `res`. We can achieve this using the `QNum` type and the numerical assignment capabilities."
   ]
  },
  {
   "cell_type": "code",
   "execution_count": 24,
   "metadata": {},
   "outputs": [],
   "source": [
    "\n",
    "\n",
    "# @qfunc\n",
    "# def main(res: Output[QNum], x: Output[QNum[3,UNSIGNED,0]], y: Output[QNum[5,SIGNED,1]]):\n",
    "#     # Using numerical assignment:\n",
    "#     x |= 5\n",
    "#     y |= -7.5\n",
    "#     res |= x+y\n",
    "\n",
    "from classiq import qfunc, Output, QNum, allocate, hadamard_transform, phase\n",
    "from classiq.qmod.symbolic import pi\n",
    "\n",
    "\n",
    "@qfunc\n",
    "def main(x: Output[QNum]):\n",
    "    allocate(6, x)\n",
    "    hadamard_transform(x)\n",
    "    qft(x)\n",
    "    phase(x**2, pi / 4)\n",
    "    invert(stmt_block=lambda: qft(x)) \n",
    "\n",
    "\n",
    "qmod = create_model(main)\n",
    "qprog = synthesize(qmod)"
   ]
  },
  {
   "cell_type": "code",
   "execution_count": 22,
   "metadata": {},
   "outputs": [
    {
     "name": "stdout",
     "output_type": "stream",
     "text": [
      "Opening: https://platform.classiq.io/circuit/2sTrUu1wRQYiUUYUsU6hYESuyD1?version=0.66.1\n"
     ]
    }
   ],
   "source": [
    "show(qprog)"
   ]
  },
  {
   "cell_type": "markdown",
   "metadata": {},
   "source": [
    "<details markdown>\n",
    "<summary>Note on Local Variables</summary>\n",
    "\n",
    "The same function using local variables:\n",
    "\n",
    "```python\n",
    "@qfunc\n",
    "def main(res: Output[QNum]):\n",
    "    # Initializing local variables `x` and `y`:\n",
    "    x = QNum()\n",
    "    y = QNum()\n",
    "\n",
    "    # Using numerical assignment:\n",
    "    x |= 5\n",
    "    y |= -7.5\n",
    "    res |= x + y\n"
   ]
  },
  {
   "cell_type": "markdown",
   "metadata": {},
   "source": [
    "<details markdown>\n",
    "<summary>Note on Numeric Assignment</summary>\n",
    "\n",
    "The `|=` operator assumes no prior allocation of qubits. If you're using an already initialized variable, you may use the in-place XOR operator `^=`. Additionally, the `+=` operator can be used to intuitively add a value to an already initialized variable.\n",
    "\n",
    "Read more: [Numeric Assignment](https://docs.classiq.io/latest/qmod-reference/language-reference/statements/numeric-assignment/?h=numeric)\n",
    "\n",
    "</details>\n"
   ]
  },
  {
   "cell_type": "markdown",
   "metadata": {},
   "source": [
    "You can learn more about it [here](https://docs.classiq.io/latest/qmod-reference/language-reference/statements/numeric-assignment/)."
   ]
  },
  {
   "cell_type": "markdown",
   "metadata": {},
   "source": [
    "#### Amplitude-Encoding Assignment:"
   ]
  },
  {
   "cell_type": "code",
   "execution_count": 27,
   "metadata": {},
   "outputs": [],
   "source": [
    "from classiq import *\n",
    "\n",
    "a = 3\n",
    "b = 2\n",
    "\n",
    "@qfunc\n",
    "def main(x: Output[QNum[5, UNSIGNED, 5]], y: Output[QNum]) -> None:\n",
    "    allocate(5, x)\n",
    "    hadamard_transform(x)\n",
    "    allocate(1, y)\n",
    "    \n",
    "    y *= x**2\n",
    "\n",
    "qmod = create_model(main)\n",
    "qprog = synthesize(qmod)"
   ]
  },
  {
   "cell_type": "code",
   "execution_count": 28,
   "metadata": {},
   "outputs": [],
   "source": [
    "res = execute(qprog).get_sample_result()"
   ]
  },
  {
   "cell_type": "code",
   "execution_count": 3,
   "metadata": {},
   "outputs": [
    {
     "data": {
      "text/plain": [
       "[{'x': 0.375, 'y': 0}: 76,\n",
       " {'x': 0.3125, 'y': 0}: 73,\n",
       " {'x': 0.125, 'y': 0}: 70,\n",
       " {'x': 0.96875, 'y': 1}: 69,\n",
       " {'x': 0.15625, 'y': 0}: 67,\n",
       " {'x': 0.1875, 'y': 0}: 66,\n",
       " {'x': 0.25, 'y': 0}: 66,\n",
       " {'x': 0.09375, 'y': 0}: 65,\n",
       " {'x': 0.5625, 'y': 0}: 65,\n",
       " {'x': 0.03125, 'y': 0}: 65,\n",
       " {'x': 0.53125, 'y': 0}: 64,\n",
       " {'x': 0.21875, 'y': 0}: 63,\n",
       " {'x': 0.5, 'y': 0}: 63,\n",
       " {'x': 0.46875, 'y': 0}: 62,\n",
       " {'x': 0.0625, 'y': 0}: 62,\n",
       " {'x': 0.34375, 'y': 0}: 60,\n",
       " {'x': 0.40625, 'y': 0}: 58,\n",
       " {'x': 0.0, 'y': 0}: 57,\n",
       " {'x': 0.4375, 'y': 0}: 56,\n",
       " {'x': 0.65625, 'y': 0}: 56,\n",
       " {'x': 0.625, 'y': 0}: 56,\n",
       " {'x': 0.6875, 'y': 0}: 56,\n",
       " {'x': 0.28125, 'y': 0}: 52,\n",
       " {'x': 0.75, 'y': 0}: 48,\n",
       " {'x': 0.71875, 'y': 0}: 47,\n",
       " {'x': 0.90625, 'y': 1}: 47,\n",
       " {'x': 0.8125, 'y': 0}: 43,\n",
       " {'x': 0.59375, 'y': 0}: 40,\n",
       " {'x': 0.84375, 'y': 1}: 34,\n",
       " {'x': 0.9375, 'y': 1}: 33,\n",
       " {'x': 0.84375, 'y': 0}: 30,\n",
       " {'x': 0.875, 'y': 1}: 29,\n",
       " {'x': 0.8125, 'y': 1}: 27,\n",
       " {'x': 0.78125, 'y': 1}: 24,\n",
       " {'x': 0.75, 'y': 1}: 24,\n",
       " {'x': 0.78125, 'y': 0}: 24,\n",
       " {'x': 0.90625, 'y': 0}: 23,\n",
       " {'x': 0.875, 'y': 0}: 18,\n",
       " {'x': 0.6875, 'y': 1}: 18,\n",
       " {'x': 0.9375, 'y': 0}: 15,\n",
       " {'x': 0.65625, 'y': 1}: 14,\n",
       " {'x': 0.71875, 'y': 1}: 11,\n",
       " {'x': 0.625, 'y': 1}: 9,\n",
       " {'x': 0.5625, 'y': 1}: 7,\n",
       " {'x': 0.59375, 'y': 1}: 7,\n",
       " {'x': 0.46875, 'y': 1}: 6,\n",
       " {'x': 0.5, 'y': 1}: 6,\n",
       " {'x': 0.53125, 'y': 1}: 5,\n",
       " {'x': 0.96875, 'y': 0}: 4,\n",
       " {'x': 0.40625, 'y': 1}: 3,\n",
       " {'x': 0.4375, 'y': 1}: 2,\n",
       " {'x': 0.34375, 'y': 1}: 1,\n",
       " {'x': 0.21875, 'y': 1}: 1,\n",
       " {'x': 0.375, 'y': 1}: 1]"
      ]
     },
     "execution_count": 3,
     "metadata": {},
     "output_type": "execute_result"
    }
   ],
   "source": [
    "res.parsed_counts"
   ]
  },
  {
   "cell_type": "code",
   "execution_count": 4,
   "metadata": {},
   "outputs": [
    {
     "data": {
      "text/plain": [
       "[{'x': 0.375}: 77,\n",
       " {'x': 0.6875}: 74,\n",
       " {'x': 0.96875}: 73,\n",
       " {'x': 0.3125}: 73,\n",
       " {'x': 0.5625}: 72,\n",
       " {'x': 0.75}: 72,\n",
       " {'x': 0.90625}: 70,\n",
       " {'x': 0.8125}: 70,\n",
       " {'x': 0.125}: 70,\n",
       " {'x': 0.65625}: 70,\n",
       " {'x': 0.53125}: 69,\n",
       " {'x': 0.5}: 69,\n",
       " {'x': 0.46875}: 68,\n",
       " {'x': 0.15625}: 67,\n",
       " {'x': 0.1875}: 66,\n",
       " {'x': 0.25}: 66,\n",
       " {'x': 0.09375}: 65,\n",
       " {'x': 0.625}: 65,\n",
       " {'x': 0.03125}: 65,\n",
       " {'x': 0.21875}: 64,\n",
       " {'x': 0.84375}: 64,\n",
       " {'x': 0.0625}: 62,\n",
       " {'x': 0.34375}: 61,\n",
       " {'x': 0.40625}: 61,\n",
       " {'x': 0.71875}: 58,\n",
       " {'x': 0.4375}: 58,\n",
       " {'x': 0.0}: 57,\n",
       " {'x': 0.28125}: 52,\n",
       " {'x': 0.78125}: 48,\n",
       " {'x': 0.9375}: 48,\n",
       " {'x': 0.59375}: 47,\n",
       " {'x': 0.875}: 47]"
      ]
     },
     "execution_count": 4,
     "metadata": {},
     "output_type": "execute_result"
    }
   ],
   "source": [
    "res.parsed_counts_of_outputs(\"x\") # Only \"correct\" results"
   ]
  },
  {
   "cell_type": "code",
   "execution_count": 23,
   "metadata": {},
   "outputs": [
    {
     "name": "stdout",
     "output_type": "stream",
     "text": [
      "Opening: https://platform.classiq.io/circuit/2sOsMdmixl1B9voWzQizOkbiXXS?version=0.66.1\n"
     ]
    }
   ],
   "source": [
    "show(qprog)"
   ]
  },
  {
   "cell_type": "markdown",
   "metadata": {},
   "source": [
    "You can learn more about it [here](https://docs.classiq.io/latest/qmod-reference/language-reference/statements/amplitude-encoding-assignment/)"
   ]
  },
  {
   "cell_type": "markdown",
   "metadata": {},
   "source": [
    "<details markdown>\n",
    "<summary markdown>Note on QNum type</summary>\n",
    "\n",
    "The `QNum` type is a `QArray` that contains additional information that helps interpret the quantum state as a scalar or as a superposition of those encoded in a quantum state, as well as other useful information for numerical operations. You may read and learn more about it [here](https://docs.classiq.io/latest/qmod-reference/language-reference/quantum-types/)\n",
    "\n",
    "</details>"
   ]
  },
  {
   "cell_type": "markdown",
   "metadata": {},
   "source": [
    "**The [classiq-library repository](https://github.com/Classiq/classiq-library) contains the largest collection of updated functions, tutorials, and implementations of algorithms and applications, all fully available for your use.**"
   ]
  },
  {
   "cell_type": "markdown",
   "metadata": {},
   "source": [
    "#### Warm-Up Exercise"
   ]
  },
  {
   "cell_type": "markdown",
   "metadata": {},
   "source": [
    "For better preparation for the hackathon, try solving the following task as a warm-up:\n",
    "\n",
    "- implement an algorithm that prepares an exponential state with a decay rate of `0.1`\n",
    "- Allocate 5 qubits to the variable `x`\n",
    "- Apply QFT on the exponential state"
   ]
  },
  {
   "cell_type": "markdown",
   "metadata": {},
   "source": [
    "<details>\n",
    "<summary>Bonus Exercise</summary>\n",
    "\n",
    "Adapt the `create_model` function to use `ExecutionPreferences`, and set the backend to `backend_name=ClassiqSimulatorBackendNames.SIMULATOR_STATEVECTOR` as well as `num_shots=1`.\n",
    "\n",
    "**Read more [here](https://docs.classiq.io/latest/sdk-reference/execution/?h=executionpreferences#classiq.execution.ExecutionPreferences)**\n",
    "\n",
    "</details>\n"
   ]
  },
  {
   "cell_type": "code",
   "execution_count": null,
   "metadata": {},
   "outputs": [],
   "source": []
  },
  {
   "cell_type": "code",
   "execution_count": 5,
   "metadata": {},
   "outputs": [
    {
     "name": "stdout",
     "output_type": "stream",
     "text": [
      "Opening: https://platform.classiq.io/circuit/2sSo3YNCfZXHIki7gl6UrfteNJW?version=0.66.1\n"
     ]
    }
   ],
   "source": [
    "from classiq import *\n",
    "from classiq.execution import ExecutionPreferences, ClassiqSimulatorBackendNames\n",
    "\n",
    "# Define the quantum function\n",
    "@qfunc\n",
    "def main(x: Output[QArray[QBit]]):\n",
    "    allocate(5, x)  # Allocate 5 qubits to x\n",
    "    prepare_exponential_state(0.1, x)  # Prepare the exponential state with decay rate 0.1\n",
    "\n",
    "# Define execution preferences\n",
    "execution_preferences = ExecutionPreferences(\n",
    "    backend_name=ClassiqSimulatorBackendNames.SIMULATOR_STATEVECTOR,  # Use the statevector simulator\n",
    "    num_shots=1  # Only 1 shot is needed for statevector simulation\n",
    ")\n",
    "\n",
    "# Create the quantum model with execution preferences\n",
    "qmod = create_model(main, execution_preferences=execution_preferences)\n",
    "\n",
    "# Synthesize the quantum program\n",
    "qprog = synthesize(qmod)\n",
    "\n",
    "# Display the quantum program\n",
    "show(qprog)"
   ]
  },
  {
   "cell_type": "code",
   "execution_count": 8,
   "metadata": {},
   "outputs": [],
   "source": [
    "qmod = create_model(main) # Adapt in Bouns Exercise\n",
    "qprog = synthesize(qmod)"
   ]
  },
  {
   "cell_type": "code",
   "execution_count": 9,
   "metadata": {},
   "outputs": [
    {
     "name": "stdout",
     "output_type": "stream",
     "text": [
      "Opening: https://platform.classiq.io/circuit/2sTag3mSUldchEB6D9zGAe602nN?version=0.66.1\n"
     ]
    }
   ],
   "source": [
    "show(qprog)"
   ]
  },
  {
   "cell_type": "markdown",
   "metadata": {},
   "source": [
    "# Looking Forward to Connecting During the Challenge!\n",
    "### Good Luck! "
   ]
  },
  {
   "cell_type": "code",
   "execution_count": null,
   "metadata": {},
   "outputs": [],
   "source": []
  }
 ],
 "metadata": {
  "kernelspec": {
   "display_name": "Python 3",
   "language": "python",
   "name": "python3"
  },
  "language_info": {
   "codemirror_mode": {
    "name": "ipython",
    "version": 3
   },
   "file_extension": ".py",
   "mimetype": "text/x-python",
   "name": "python",
   "nbconvert_exporter": "python",
   "pygments_lexer": "ipython3",
   "version": "3.12.6"
  }
 },
 "nbformat": 4,
 "nbformat_minor": 4
}
